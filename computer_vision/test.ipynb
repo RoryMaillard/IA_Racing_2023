{
 "cells": [
  {
   "cell_type": "code",
   "execution_count": 3,
   "metadata": {},
   "outputs": [],
   "source": [
    "import sklearn as sk\n",
    "import numpy as np\n",
    "import pandas as pd\n",
    "import matplotlib.pyplot as plt\n",
    "\n",
    "from sklearn.neural_network import MLPRegressor\n",
    "import cv2\n",
    "import glob\n",
    "from natsort import natsorted\n",
    "import json\n",
    "# Preprocess the images and targets\n",
    "# Assuming you have a list of images and a list of offsets\n",
    "# images: List of image arrays\n",
    "# offsets: List of offset values\n",
    "DATA_DIR = \"C:\\\\Users\\\\luluk\\\\OneDrive - imt-atlantique\\\\Imt_courses\\\\PROCOM\\\\ia_racing_imt-main\\\\supervise\\\\dataset_drive11\\\\images\"\n",
    "LABEL_DIR = \"C:\\\\Users\\\\luluk\\\\OneDrive - imt-atlantique\\\\Imt_courses\\\\PROCOM\\\\ia_racing_imt-main\\\\supervise\\\\dataset_drive11\"\n",
    "offsets = []\n",
    "images = []\n",
    "\n",
    "images = [cv2.cvtColor(cv2.imread(file),cv2.COLOR_BGR2RGB) for file in natsorted(glob.glob(DATA_DIR+\"\\\\*.jpg\"))]\n",
    "with open(LABEL_DIR + \"\\\\labels.json\") as labels_file:\n",
    "    labels = json.load(labels_file)\n",
    "offsets = [label[\"offset\"] for label in labels]\n",
    "# Convert the images list to a numpy array\n",
    "X = np.array(images)\n",
    "\n",
    "# Reshape the input images to a 1D array\n",
    "X = X.reshape(X.shape[0], -1)\n",
    "\n",
    "# Convert the offsets list to a numpy array\n",
    "y = np.array(offsets)\n",
    "\n",
    "# Create an MLPRegressor\n",
    "mlp = MLPRegressor()\n",
    "\n",
    "# Fit the MLPRegressor on the data\n",
    "mlp.fit(X, y)\n"
   ]
  }
 ],
 "metadata": {
  "kernelspec": {
   "display_name": "Python 3",
   "language": "python",
   "name": "python3"
  },
  "language_info": {
   "codemirror_mode": {
    "name": "ipython",
    "version": 3
   },
   "file_extension": ".py",
   "mimetype": "text/x-python",
   "name": "python",
   "nbconvert_exporter": "python",
   "pygments_lexer": "ipython3",
   "version": "3.11.7"
  }
 },
 "nbformat": 4,
 "nbformat_minor": 2
}
