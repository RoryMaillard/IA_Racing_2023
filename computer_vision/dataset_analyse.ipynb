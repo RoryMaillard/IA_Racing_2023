{
 "cells": [
  {
   "cell_type": "markdown",
   "metadata": {},
   "source": [
    "# DATASET ANALYSE\n",
    "\n",
    "Analyse du dataset pour un entrainement supervisé\n",
    "L'objectif est de connaître la répartission des données des __angles__ et ___throttle__. "
   ]
  },
  {
   "cell_type": "code",
   "execution_count": 1,
   "metadata": {},
   "outputs": [],
   "source": [
    "import json\n",
    "import matplotlib.pyplot as plt\n",
    "from collections import Counter\n",
    "from PIL import Image\n",
    "import numpy as np\n",
    "\n",
    "file_path = ['dataset_drive14']"
   ]
  },
  {
   "cell_type": "code",
   "execution_count": 2,
   "metadata": {},
   "outputs": [
    {
     "name": "stdout",
     "output_type": "stream",
     "text": [
      "3770\n"
     ]
    }
   ],
   "source": [
    "def load_images_with_labels(path):\n",
    "\n",
    "    def verif(data):\n",
    "        if abs(data)<=5:\n",
    "            return True\n",
    "        else:\n",
    "            return False\n",
    "\n",
    "    images = []\n",
    "    throttle= []\n",
    "    angle = []\n",
    "    centre_piste=[]\n",
    "    for file_path in path:\n",
    "        with open(file_path+'/labels.json', 'r') as file:\n",
    "            data = json.load(file)\n",
    "            \n",
    "        for img_filename, values in data.items():\n",
    "            # Load image using PIL\n",
    "            img_path = file_path+\"/images/\"+img_filename  # Modify the path to your image directory\n",
    "            image = Image.open(img_path)\n",
    "            images.append(image)\n",
    "\n",
    "\n",
    "            # Extract throttle and angle values\n",
    "            throttle.append(values[\"user/throttle\"])\n",
    "            angle.append(values[\"user/angle\"])\n",
    "            centre_piste.append(values[\"pos/cte\"])\n",
    "\n",
    "        return images, throttle, angle, centre_piste\n",
    "\n",
    "# Load images and corresponding labels\n",
    "\n",
    "images, throttle_values, angle_values, centre_piste = load_images_with_labels(file_path)\n",
    "print(len(images))"
   ]
  },
  {
   "cell_type": "code",
   "execution_count": 3,
   "metadata": {},
   "outputs": [],
   "source": [
    "def get_distribution(data, dx):\n",
    "    distribution = Counter()\n",
    "    for value in data:\n",
    "        bin_index = int(value / dx)\n",
    "        distribution[bin_index] += 1\n",
    "    return distribution"
   ]
  },
  {
   "cell_type": "code",
   "execution_count": 4,
   "metadata": {},
   "outputs": [
    {
     "name": "stdout",
     "output_type": "stream",
     "text": [
      "0.8384325984719291\n",
      "4.2072084348629195\n"
     ]
    },
    {
     "data": {
      "image/png": "[encoded data removed]",
      "text/plain": [
       "<Figure size 640x480 with 1 Axes>"
      ]
     },
     "metadata": {},
     "output_type": "display_data"
    }
   ],
   "source": [
    "bin_width = 0.1\n",
    "\n",
    "result = get_distribution(centre_piste, bin_width)\n",
    "\n",
    "bin_starts = [bin_index * bin_width for bin_index in sorted(result.keys())]\n",
    "counts = [result[bin_index] for bin_index in sorted(result.keys())]\n",
    "\n",
    "moyenne = np.mean(centre_piste)\n",
    "print(moyenne)\n",
    "ecart_type = np.std(centre_piste)\n",
    "print(ecart_type*2)\n",
    "\n",
    "plt.bar(bin_starts, counts, width=bin_width, align='edge')\n",
    "plt.plot([moyenne, moyenne], [0, max(counts)], color='red', linestyle='dashed')\n",
    "\n",
    "plt.xlabel('')\n",
    "plt.ylabel('Fréquence')\n",
    "plt.title('Répartition de l\\'écart au centre de la piste')\n",
    "plt.show()"
   ]
  },
  {
   "cell_type": "code",
   "execution_count": 63,
   "metadata": {},
   "outputs": [],
   "source": [
    "#load json file\n",
    "with open(file_path[0]+\"/labels.json\", \"r\") as file:\n",
    "    json_data = json.load(file)\n",
    "\n",
    "# Filter elements where pos/cte is under 5\n",
    "filtered_data = {k: v for k, v in json_data.items() if abs(v[\"pos/cte\"]) <=4 }\n",
    "\n",
    "import os\n",
    "for img_filename in os.listdir(file_path[0]+\"/images\"):\n",
    "    if img_filename not in filtered_data:\n",
    "        os.remove(file_path[0]+\"/images/\"+img_filename)\n",
    "\n",
    "# Convert filtered data back to JSON\n",
    "filtered_json = json.dumps(filtered_data, indent=4)\n",
    "\n",
    "# Write JSON to file\n",
    "with open(file_path[0]+\"/labels.json\", \"w\") as file:\n",
    "    file.write(filtered_json)"
   ]
  },
  {
   "cell_type": "code",
   "execution_count": 23,
   "metadata": {},
   "outputs": [],
   "source": [
    "# Read the JSON data from the file\n",
    "with open(file_path+'/labels.json', 'r') as file:\n",
    "    data = json.load(file)\n",
    "\n",
    "# Filter out elements with angle below 0.8\n",
    "filtered_data = {key: value for key, value in data.items() if (value['user/throttle'] >-0.8)}\n",
    "\n",
    "# Write the updated JSON back to the file\n",
    "#with open(file_path+'/labels.json', 'w') as file:\n",
    "#    json.dump(filtered_data, file, indent=4)"
   ]
  }
 ],
 "metadata": {
  "kernelspec": {
   "display_name": "Python 3",
   "language": "python",
   "name": "python3"
  },
  "language_info": {
   "codemirror_mode": {
    "name": "ipython",
    "version": 3
   },
   "file_extension": ".py",
   "mimetype": "text/x-python",
   "name": "python",
   "nbconvert_exporter": "python",
   "pygments_lexer": "ipython3",
   "version": "3.11.5"
  }
 },
 "nbformat": 4,
 "nbformat_minor": 2
}
